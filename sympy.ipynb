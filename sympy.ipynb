{
 "cells": [
  {
   "cell_type": "code",
   "execution_count": 1,
   "metadata": {
    "collapsed": true
   },
   "outputs": [],
   "source": [
    "from sympy import *\n",
    "import numpy as np\n",
    "from IPython.display import display\n",
    "init_printing()"
   ]
  },
  {
   "cell_type": "markdown",
   "metadata": {},
   "source": [
    "### Khai báo biến"
   ]
  },
  {
   "cell_type": "markdown",
   "metadata": {},
   "source": [
    "\"Biến\" ở đây có nghĩa là \"biến số\" trong toán học chứ không phải một vùng nhớ lưu trữ dữ liệu thông thường. Giả sử ta chọn $x,y,z$ làm biến."
   ]
  },
  {
   "cell_type": "code",
   "execution_count": 2,
   "metadata": {
    "collapsed": true
   },
   "outputs": [],
   "source": [
    "x = Symbol('x')\n",
    "# hoặc cách khác\n",
    "y, z = symbols('y, z')"
   ]
  },
  {
   "cell_type": "code",
   "execution_count": 3,
   "metadata": {},
   "outputs": [
    {
     "name": "stdout",
     "output_type": "stream",
     "text": [
      "<class 'sympy.core.symbol.Symbol'>\n",
      "<class 'sympy.core.symbol.Symbol'>\n"
     ]
    }
   ],
   "source": [
    "print(type(x))\n",
    "print(type(y))"
   ]
  },
  {
   "cell_type": "code",
   "execution_count": 4,
   "metadata": {},
   "outputs": [
    {
     "data": {
      "image/png": "[encoded data removed]",
      "text/latex": [
       "$$y + z^{2} + \\frac{1}{x + 1}$$"
      ],
      "text/plain": [
       "     2     1  \n",
       "y + z  + ─────\n",
       "         x + 1"
      ]
     },
     "execution_count": 4,
     "metadata": {},
     "output_type": "execute_result"
    }
   ],
   "source": [
    "1/(x+1)+y+z**2"
   ]
  },
  {
   "cell_type": "markdown",
   "metadata": {},
   "source": [
    "### Các kiểu số"
   ]
  },
  {
   "cell_type": "code",
   "execution_count": 5,
   "metadata": {},
   "outputs": [
    {
     "data": {
      "image/png": "[encoded data removed]",
      "text/latex": [
       "$$\\frac{20}{17}$$"
      ],
      "text/plain": [
       "20\n",
       "──\n",
       "17"
      ]
     },
     "metadata": {},
     "output_type": "display_data"
    },
    {
     "data": {
      "image/png": "[encoded data removed]",
      "text/latex": [
       "$$\\frac{20}{17}$$"
      ],
      "text/plain": [
       "20\n",
       "──\n",
       "17"
      ]
     },
     "execution_count": 5,
     "metadata": {},
     "output_type": "execute_result"
    }
   ],
   "source": [
    "c = 20 + 17*I # Số phức\n",
    "r = Rational(20,17) # Số hữu tỷ\n",
    "display(r)\n",
    "# hoặc đơn giản là\n",
    "r"
   ]
  },
  {
   "cell_type": "markdown",
   "metadata": {},
   "source": [
    "### Ước lượng giá trị"
   ]
  },
  {
   "cell_type": "markdown",
   "metadata": {},
   "source": [
    "Dùng method `eval` hoặc hàm `N`."
   ]
  },
  {
   "cell_type": "code",
   "execution_count": 6,
   "metadata": {},
   "outputs": [
    {
     "data": {
      "image/png": "[encoded data removed]",
      "text/latex": [
       "$$3.14159265358979323846264338328$$"
      ],
      "text/plain": [
       "3.14159265358979323846264338328"
      ]
     },
     "execution_count": 6,
     "metadata": {},
     "output_type": "execute_result"
    }
   ],
   "source": [
    "pi.evalf(30)"
   ]
  },
  {
   "cell_type": "code",
   "execution_count": 7,
   "metadata": {},
   "outputs": [
    {
     "data": {
      "image/png": "[encoded data removed]",
      "text/latex": [
       "$$\\left(x + 3.14\\right)^{2}$$"
      ],
      "text/plain": [
       "          2\n",
       "(x + 3.14) "
      ]
     },
     "execution_count": 7,
     "metadata": {},
     "output_type": "execute_result"
    }
   ],
   "source": [
    "N((x+pi)**2, 3)"
   ]
  },
  {
   "cell_type": "markdown",
   "metadata": {},
   "source": [
    "### Thế giá trị của biến vào biểu thức"
   ]
  },
  {
   "cell_type": "markdown",
   "metadata": {},
   "source": [
    "Giả sử cần tính giá trị của $\\frac{1}{x+1}+y+z^2$ với $x=0, y=1, z=3$. Mỗi biểu thức trong `sympy` đều có method `subs` nhận một array gồm các tuples. Mỗi tuple là một cặp theo thứ tự biến số và giá trị thay vào biến."
   ]
  },
  {
   "cell_type": "code",
   "execution_count": 8,
   "metadata": {},
   "outputs": [
    {
     "data": {
      "image/png": "[encoded data removed]",
      "text/latex": [
       "$$11$$"
      ],
      "text/plain": [
       "11"
      ]
     },
     "execution_count": 8,
     "metadata": {},
     "output_type": "execute_result"
    }
   ],
   "source": [
    "(1/(x+1)+y+z**2).subs([(x, 0), (y, 1), (z, 3)])"
   ]
  },
  {
   "cell_type": "markdown",
   "metadata": {},
   "source": [
    "Giả sử cần tính giá trị của $x+2y^3$ với $x=\\pi^3, y=\\pi+1$. Kết quả lấy chính xác đến 15 chữ số."
   ]
  },
  {
   "cell_type": "code",
   "execution_count": 9,
   "metadata": {},
   "outputs": [
    {
     "data": {
      "image/png": "[encoded data removed]",
      "text/latex": [
       "$$\\pi^{3} + 2 \\left(1 + \\pi\\right)^{3}$$"
      ],
      "text/plain": [
       " 3            3\n",
       "π  + 2⋅(1 + π) "
      ]
     },
     "metadata": {},
     "output_type": "display_data"
    },
    {
     "name": "stdout",
     "output_type": "stream",
     "text": [
      "173.086012368974\n"
     ]
    }
   ],
   "source": [
    "expression = x + 2*y**3\n",
    "result = expression.subs([(x, pi**3), (y, pi+1)]) \n",
    "display(result)\n",
    "print(N(result, 15))"
   ]
  },
  {
   "cell_type": "markdown",
   "metadata": {},
   "source": [
    "Để tối ưu tính toán giá trị số của biểu thức trong `sympy`, thay vì dùng method `subs` để thay giá trị vào biến có thể định nghĩa một hàm hoặc `lambdify` biểu thức đó. Giả sử cần gọi hàm $f(x)=x^2$ rất nhiều lần (để vẽ đồ thị chẳng hạn)."
   ]
  },
  {
   "cell_type": "code",
   "execution_count": 10,
   "metadata": {},
   "outputs": [
    {
     "data": {
      "image/png": "[encoded data removed]",
      "text/latex": [
       "$$x^{2}$$"
      ],
      "text/plain": [
       " 2\n",
       "x "
      ]
     },
     "execution_count": 10,
     "metadata": {},
     "output_type": "execute_result"
    }
   ],
   "source": [
    "f = x**2\n",
    "f"
   ]
  },
  {
   "cell_type": "code",
   "execution_count": 11,
   "metadata": {
    "collapsed": true
   },
   "outputs": [],
   "source": [
    "def f1(x):\n",
    "    return x**2\n",
    "f2 = lambdify([x], f)\n",
    "arr_x = np.linspace(0, 10, 50)"
   ]
  },
  {
   "cell_type": "code",
   "execution_count": 12,
   "metadata": {},
   "outputs": [
    {
     "name": "stdout",
     "output_type": "stream",
     "text": [
      "6.58 ms ± 1.02 ms per loop (mean ± std. dev. of 7 runs, 100 loops each)\n"
     ]
    }
   ],
   "source": [
    "%%timeit\n",
    "arr_f = np.array([N(f.subs(x, xx)) for xx in arr_x])"
   ]
  },
  {
   "cell_type": "code",
   "execution_count": 13,
   "metadata": {},
   "outputs": [
    {
     "name": "stdout",
     "output_type": "stream",
     "text": [
      "1.46 µs ± 32.8 ns per loop (mean ± std. dev. of 7 runs, 1000000 loops each)\n"
     ]
    }
   ],
   "source": [
    "%%timeit\n",
    "arr_f1 = f1(arr_x)"
   ]
  },
  {
   "cell_type": "code",
   "execution_count": 14,
   "metadata": {},
   "outputs": [
    {
     "name": "stdout",
     "output_type": "stream",
     "text": [
      "1.55 µs ± 54.5 ns per loop (mean ± std. dev. of 7 runs, 100000 loops each)\n"
     ]
    }
   ],
   "source": [
    "%%timeit\n",
    "arr_f2 = f2(arr_x)"
   ]
  },
  {
   "cell_type": "markdown",
   "metadata": {},
   "source": [
    "Lưu ý: Với cách định nghĩa và sử dụng `f1`, bạn gần hoàn toàn không hề sử dụng đến thư viện `sympy` mà chỉ dùng `numpy` thuần túy."
   ]
  },
  {
   "cell_type": "markdown",
   "metadata": {},
   "source": [
    "### Biến đổi biểu thức đại số"
   ]
  },
  {
   "cell_type": "markdown",
   "metadata": {},
   "source": [
    "#### Khai triển và tách nhân tử"
   ]
  },
  {
   "cell_type": "code",
   "execution_count": 15,
   "metadata": {},
   "outputs": [
    {
     "data": {
      "image/png": "[encoded data removed]",
      "text/latex": [
       "$$x^{2} y + 2 x^{2} + 2 x y + 4 x + y + 2$$"
      ],
      "text/plain": [
       " 2        2                      \n",
       "x ⋅y + 2⋅x  + 2⋅x⋅y + 4⋅x + y + 2"
      ]
     },
     "execution_count": 15,
     "metadata": {},
     "output_type": "execute_result"
    }
   ],
   "source": [
    "expand((x+1)**2*(y+2))"
   ]
  },
  {
   "cell_type": "code",
   "execution_count": 16,
   "metadata": {},
   "outputs": [
    {
     "data": {
      "image/png": "[encoded data removed]",
      "text/latex": [
       "$$\\left(x + 1\\right)^{2} \\left(y + 2\\right)$$"
      ],
      "text/plain": [
       "       2        \n",
       "(x + 1) ⋅(y + 2)"
      ]
     },
     "execution_count": 16,
     "metadata": {},
     "output_type": "execute_result"
    }
   ],
   "source": [
    "factor(x**2*y+2*x**2+2*x*y+4*x+y+2)"
   ]
  },
  {
   "cell_type": "code",
   "execution_count": 17,
   "metadata": {},
   "outputs": [
    {
     "data": {
      "image/png": "[encoded data removed]",
      "text/latex": [
       "$$\\sin{\\left (x y \\right )} \\sin^{2}{\\left (x + y \\right )} + 2 \\sin{\\left (x y \\right )} \\sin{\\left (x + y \\right )} + \\sin{\\left (x y \\right )} + 2 \\sin^{2}{\\left (x + y \\right )} + 4 \\sin{\\left (x + y \\right )} + 2$$"
      ],
      "text/plain": [
       "            2                                                  2              \n",
       "sin(x⋅y)⋅sin (x + y) + 2⋅sin(x⋅y)⋅sin(x + y) + sin(x⋅y) + 2⋅sin (x + y) + 4⋅si\n",
       "\n",
       "            \n",
       "n(x + y) + 2"
      ]
     },
     "execution_count": 17,
     "metadata": {},
     "output_type": "execute_result"
    }
   ],
   "source": [
    "expand((sin(x+y)+1)**2*(sin(x*y)+2))"
   ]
  },
  {
   "cell_type": "markdown",
   "metadata": {},
   "source": [
    "Để khai triển các hàm lượng giác (trigonometry) ra hẳn thì thêm tham số `trig=True`."
   ]
  },
  {
   "cell_type": "code",
   "execution_count": 18,
   "metadata": {},
   "outputs": [
    {
     "data": {
      "image/png": "[encoded data removed]",
      "text/latex": [
       "$$\\sin^{2}{\\left (x \\right )} \\sin{\\left (x y \\right )} \\cos^{2}{\\left (y \\right )} + 2 \\sin^{2}{\\left (x \\right )} \\cos^{2}{\\left (y \\right )} + 2 \\sin{\\left (x \\right )} \\sin{\\left (y \\right )} \\sin{\\left (x y \\right )} \\cos{\\left (x \\right )} \\cos{\\left (y \\right )} + 4 \\sin{\\left (x \\right )} \\sin{\\left (y \\right )} \\cos{\\left (x \\right )} \\cos{\\left (y \\right )} + 2 \\sin{\\left (x \\right )} \\sin{\\left (x y \\right )} \\cos{\\left (y \\right )} + 4 \\sin{\\left (x \\right )} \\cos{\\left (y \\right )} + \\sin^{2}{\\left (y \\right )} \\sin{\\left (x y \\right )} \\cos^{2}{\\left (x \\right )} + 2 \\sin^{2}{\\left (y \\right )} \\cos^{2}{\\left (x \\right )} + 2 \\sin{\\left (y \\right )} \\sin{\\left (x y \\right )} \\cos{\\left (x \\right )} + 4 \\sin{\\left (y \\right )} \\cos{\\left (x \\right )} + \\sin{\\left (x y \\right )} + 2$$"
      ],
      "text/plain": [
       "   2                2           2       2                                     \n",
       "sin (x)⋅sin(x⋅y)⋅cos (y) + 2⋅sin (x)⋅cos (y) + 2⋅sin(x)⋅sin(y)⋅sin(x⋅y)⋅cos(x)\n",
       "\n",
       "                                                                              \n",
       "⋅cos(y) + 4⋅sin(x)⋅sin(y)⋅cos(x)⋅cos(y) + 2⋅sin(x)⋅sin(x⋅y)⋅cos(y) + 4⋅sin(x)⋅\n",
       "\n",
       "            2                2           2       2                            \n",
       "cos(y) + sin (y)⋅sin(x⋅y)⋅cos (x) + 2⋅sin (y)⋅cos (x) + 2⋅sin(y)⋅sin(x⋅y)⋅cos(\n",
       "\n",
       "                                   \n",
       "x) + 4⋅sin(y)⋅cos(x) + sin(x⋅y) + 2"
      ]
     },
     "execution_count": 18,
     "metadata": {},
     "output_type": "execute_result"
    }
   ],
   "source": [
    "expand((sin(x+y)+1)**2*(sin(x*y)+2), trig=True)"
   ]
  },
  {
   "cell_type": "markdown",
   "metadata": {},
   "source": [
    "Sau đây là thông tin thêm về hàm `expand`:"
   ]
  },
  {
   "cell_type": "code",
   "execution_count": 19,
   "metadata": {},
   "outputs": [
    {
     "name": "stdout",
     "output_type": "stream",
     "text": [
      "Help on function expand in module sympy.core.function:\n",
      "\n",
      "expand(e, deep=True, modulus=None, power_base=True, power_exp=True, mul=True, log=True, multinomial=True, basic=True, **hints)\n",
      "    Expand an expression using methods given as hints.\n",
      "    \n",
      "    Hints evaluated unless explicitly set to False are:  ``basic``, ``log``,\n",
      "    ``multinomial``, ``mul``, ``power_base``, and ``power_exp`` The following\n",
      "    hints are supported but not applied unless set to True:  ``complex``,\n",
      "    ``func``, and ``trig``.  In addition, the following meta-hints are\n",
      "    supported by some or all of the other hints:  ``frac``, ``numer``,\n",
      "    ``denom``, ``modulus``, and ``force``.  ``deep`` is supported by all\n",
      "    hints.  Additionally, subclasses of Expr may define their own hints or\n",
      "    meta-hints.\n",
      "    \n",
      "    The ``basic`` hint is used for any special rewriting of an object that\n",
      "    should be done automatically (along with the other hints like ``mul``)\n",
      "    when expand is called. This is a catch-all hint to handle any sort of\n",
      "    expansion that may not be described by the existing hint names. To use\n",
      "    this hint an object should override the ``_eval_expand_basic`` method.\n",
      "    Objects may also define their own expand methods, which are not run by\n",
      "    default.  See the API section below.\n",
      "    \n",
      "    If ``deep`` is set to ``True`` (the default), things like arguments of\n",
      "    functions are recursively expanded.  Use ``deep=False`` to only expand on\n",
      "    the top level.\n",
      "    \n",
      "    If the ``force`` hint is used, assumptions about variables will be ignored\n",
      "    in making the expansion.\n",
      "    \n",
      "    Hints\n",
      "    =====\n",
      "    \n",
      "    These hints are run by default\n",
      "    \n",
      "    mul\n",
      "    ---\n",
      "    \n",
      "    Distributes multiplication over addition:\n",
      "    \n",
      "    >>> from sympy import cos, exp, sin\n",
      "    >>> from sympy.abc import x, y, z\n",
      "    >>> (y*(x + z)).expand(mul=True)\n",
      "    x*y + y*z\n",
      "    \n",
      "    multinomial\n",
      "    -----------\n",
      "    \n",
      "    Expand (x + y + ...)**n where n is a positive integer.\n",
      "    \n",
      "    >>> ((x + y + z)**2).expand(multinomial=True)\n",
      "    x**2 + 2*x*y + 2*x*z + y**2 + 2*y*z + z**2\n",
      "    \n",
      "    power_exp\n",
      "    ---------\n",
      "    \n",
      "    Expand addition in exponents into multiplied bases.\n",
      "    \n",
      "    >>> exp(x + y).expand(power_exp=True)\n",
      "    exp(x)*exp(y)\n",
      "    >>> (2**(x + y)).expand(power_exp=True)\n",
      "    2**x*2**y\n",
      "    \n",
      "    power_base\n",
      "    ----------\n",
      "    \n",
      "    Split powers of multiplied bases.\n",
      "    \n",
      "    This only happens by default if assumptions allow, or if the\n",
      "    ``force`` meta-hint is used:\n",
      "    \n",
      "    >>> ((x*y)**z).expand(power_base=True)\n",
      "    (x*y)**z\n",
      "    >>> ((x*y)**z).expand(power_base=True, force=True)\n",
      "    x**z*y**z\n",
      "    >>> ((2*y)**z).expand(power_base=True)\n",
      "    2**z*y**z\n",
      "    \n",
      "    Note that in some cases where this expansion always holds, SymPy performs\n",
      "    it automatically:\n",
      "    \n",
      "    >>> (x*y)**2\n",
      "    x**2*y**2\n",
      "    \n",
      "    log\n",
      "    ---\n",
      "    \n",
      "    Pull out power of an argument as a coefficient and split logs products\n",
      "    into sums of logs.\n",
      "    \n",
      "    Note that these only work if the arguments of the log function have the\n",
      "    proper assumptions--the arguments must be positive and the exponents must\n",
      "    be real--or else the ``force`` hint must be True:\n",
      "    \n",
      "    >>> from sympy import log, symbols\n",
      "    >>> log(x**2*y).expand(log=True)\n",
      "    log(x**2*y)\n",
      "    >>> log(x**2*y).expand(log=True, force=True)\n",
      "    2*log(x) + log(y)\n",
      "    >>> x, y = symbols('x,y', positive=True)\n",
      "    >>> log(x**2*y).expand(log=True)\n",
      "    2*log(x) + log(y)\n",
      "    \n",
      "    basic\n",
      "    -----\n",
      "    \n",
      "    This hint is intended primarily as a way for custom subclasses to enable\n",
      "    expansion by default.\n",
      "    \n",
      "    These hints are not run by default:\n",
      "    \n",
      "    complex\n",
      "    -------\n",
      "    \n",
      "    Split an expression into real and imaginary parts.\n",
      "    \n",
      "    >>> x, y = symbols('x,y')\n",
      "    >>> (x + y).expand(complex=True)\n",
      "    re(x) + re(y) + I*im(x) + I*im(y)\n",
      "    >>> cos(x).expand(complex=True)\n",
      "    -I*sin(re(x))*sinh(im(x)) + cos(re(x))*cosh(im(x))\n",
      "    \n",
      "    Note that this is just a wrapper around ``as_real_imag()``.  Most objects\n",
      "    that wish to redefine ``_eval_expand_complex()`` should consider\n",
      "    redefining ``as_real_imag()`` instead.\n",
      "    \n",
      "    func\n",
      "    ----\n",
      "    \n",
      "    Expand other functions.\n",
      "    \n",
      "    >>> from sympy import gamma\n",
      "    >>> gamma(x + 1).expand(func=True)\n",
      "    x*gamma(x)\n",
      "    \n",
      "    trig\n",
      "    ----\n",
      "    \n",
      "    Do trigonometric expansions.\n",
      "    \n",
      "    >>> cos(x + y).expand(trig=True)\n",
      "    -sin(x)*sin(y) + cos(x)*cos(y)\n",
      "    >>> sin(2*x).expand(trig=True)\n",
      "    2*sin(x)*cos(x)\n",
      "    \n",
      "    Note that the forms of ``sin(n*x)`` and ``cos(n*x)`` in terms of ``sin(x)``\n",
      "    and ``cos(x)`` are not unique, due to the identity `\\sin^2(x) + \\cos^2(x)\n",
      "    = 1`.  The current implementation uses the form obtained from Chebyshev\n",
      "    polynomials, but this may change.  See `this MathWorld article\n",
      "    <http://mathworld.wolfram.com/Multiple-AngleFormulas.html>`_ for more\n",
      "    information.\n",
      "    \n",
      "    Notes\n",
      "    =====\n",
      "    \n",
      "    - You can shut off unwanted methods::\n",
      "    \n",
      "        >>> (exp(x + y)*(x + y)).expand()\n",
      "        x*exp(x)*exp(y) + y*exp(x)*exp(y)\n",
      "        >>> (exp(x + y)*(x + y)).expand(power_exp=False)\n",
      "        x*exp(x + y) + y*exp(x + y)\n",
      "        >>> (exp(x + y)*(x + y)).expand(mul=False)\n",
      "        (x + y)*exp(x)*exp(y)\n",
      "    \n",
      "    - Use deep=False to only expand on the top level::\n",
      "    \n",
      "        >>> exp(x + exp(x + y)).expand()\n",
      "        exp(x)*exp(exp(x)*exp(y))\n",
      "        >>> exp(x + exp(x + y)).expand(deep=False)\n",
      "        exp(x)*exp(exp(x + y))\n",
      "    \n",
      "    - Hints are applied in an arbitrary, but consistent order (in the current\n",
      "      implementation, they are applied in alphabetical order, except\n",
      "      multinomial comes before mul, but this may change).  Because of this,\n",
      "      some hints may prevent expansion by other hints if they are applied\n",
      "      first. For example, ``mul`` may distribute multiplications and prevent\n",
      "      ``log`` and ``power_base`` from expanding them. Also, if ``mul`` is\n",
      "      applied before ``multinomial`, the expression might not be fully\n",
      "      distributed. The solution is to use the various ``expand_hint`` helper\n",
      "      functions or to use ``hint=False`` to this function to finely control\n",
      "      which hints are applied. Here are some examples::\n",
      "    \n",
      "        >>> from sympy import expand, expand_mul, expand_power_base\n",
      "        >>> x, y, z = symbols('x,y,z', positive=True)\n",
      "    \n",
      "        >>> expand(log(x*(y + z)))\n",
      "        log(x) + log(y + z)\n",
      "    \n",
      "      Here, we see that ``log`` was applied before ``mul``.  To get the mul\n",
      "      expanded form, either of the following will work::\n",
      "    \n",
      "        >>> expand_mul(log(x*(y + z)))\n",
      "        log(x*y + x*z)\n",
      "        >>> expand(log(x*(y + z)), log=False)\n",
      "        log(x*y + x*z)\n",
      "    \n",
      "      A similar thing can happen with the ``power_base`` hint::\n",
      "    \n",
      "        >>> expand((x*(y + z))**x)\n",
      "        (x*y + x*z)**x\n",
      "    \n",
      "      To get the ``power_base`` expanded form, either of the following will\n",
      "      work::\n",
      "    \n",
      "        >>> expand((x*(y + z))**x, mul=False)\n",
      "        x**x*(y + z)**x\n",
      "        >>> expand_power_base((x*(y + z))**x)\n",
      "        x**x*(y + z)**x\n",
      "    \n",
      "        >>> expand((x + y)*y/x)\n",
      "        y + y**2/x\n",
      "    \n",
      "      The parts of a rational expression can be targeted::\n",
      "    \n",
      "        >>> expand((x + y)*y/x/(x + 1), frac=True)\n",
      "        (x*y + y**2)/(x**2 + x)\n",
      "        >>> expand((x + y)*y/x/(x + 1), numer=True)\n",
      "        (x*y + y**2)/(x*(x + 1))\n",
      "        >>> expand((x + y)*y/x/(x + 1), denom=True)\n",
      "        y*(x + y)/(x**2 + x)\n",
      "    \n",
      "    - The ``modulus`` meta-hint can be used to reduce the coefficients of an\n",
      "      expression post-expansion::\n",
      "    \n",
      "        >>> expand((3*x + 1)**2)\n",
      "        9*x**2 + 6*x + 1\n",
      "        >>> expand((3*x + 1)**2, modulus=5)\n",
      "        4*x**2 + x + 1\n",
      "    \n",
      "    - Either ``expand()`` the function or ``.expand()`` the method can be\n",
      "      used.  Both are equivalent::\n",
      "    \n",
      "        >>> expand((x + 1)**2)\n",
      "        x**2 + 2*x + 1\n",
      "        >>> ((x + 1)**2).expand()\n",
      "        x**2 + 2*x + 1\n",
      "    \n",
      "    API\n",
      "    ===\n",
      "    \n",
      "    Objects can define their own expand hints by defining\n",
      "    ``_eval_expand_hint()``.  The function should take the form::\n",
      "    \n",
      "        def _eval_expand_hint(self, **hints):\n",
      "            # Only apply the method to the top-level expression\n",
      "            ...\n",
      "    \n",
      "    See also the example below.  Objects should define ``_eval_expand_hint()``\n",
      "    methods only if ``hint`` applies to that specific object.  The generic\n",
      "    ``_eval_expand_hint()`` method defined in Expr will handle the no-op case.\n",
      "    \n",
      "    Each hint should be responsible for expanding that hint only.\n",
      "    Furthermore, the expansion should be applied to the top-level expression\n",
      "    only.  ``expand()`` takes care of the recursion that happens when\n",
      "    ``deep=True``.\n",
      "    \n",
      "    You should only call ``_eval_expand_hint()`` methods directly if you are\n",
      "    100% sure that the object has the method, as otherwise you are liable to\n",
      "    get unexpected ``AttributeError``s.  Note, again, that you do not need to\n",
      "    recursively apply the hint to args of your object: this is handled\n",
      "    automatically by ``expand()``.  ``_eval_expand_hint()`` should\n",
      "    generally not be used at all outside of an ``_eval_expand_hint()`` method.\n",
      "    If you want to apply a specific expansion from within another method, use\n",
      "    the public ``expand()`` function, method, or ``expand_hint()`` functions.\n",
      "    \n",
      "    In order for expand to work, objects must be rebuildable by their args,\n",
      "    i.e., ``obj.func(*obj.args) == obj`` must hold.\n",
      "    \n",
      "    Expand methods are passed ``**hints`` so that expand hints may use\n",
      "    'metahints'--hints that control how different expand methods are applied.\n",
      "    For example, the ``force=True`` hint described above that causes\n",
      "    ``expand(log=True)`` to ignore assumptions is such a metahint.  The\n",
      "    ``deep`` meta-hint is handled exclusively by ``expand()`` and is not\n",
      "    passed to ``_eval_expand_hint()`` methods.\n",
      "    \n",
      "    Note that expansion hints should generally be methods that perform some\n",
      "    kind of 'expansion'.  For hints that simply rewrite an expression, use the\n",
      "    .rewrite() API.\n",
      "    \n",
      "    Examples\n",
      "    ========\n",
      "    \n",
      "    >>> from sympy import Expr, sympify\n",
      "    >>> class MyClass(Expr):\n",
      "    ...     def __new__(cls, *args):\n",
      "    ...         args = sympify(args)\n",
      "    ...         return Expr.__new__(cls, *args)\n",
      "    ...\n",
      "    ...     def _eval_expand_double(self, **hints):\n",
      "    ...         '''\n",
      "    ...         Doubles the args of MyClass.\n",
      "    ...\n",
      "    ...         If there more than four args, doubling is not performed,\n",
      "    ...         unless force=True is also used (False by default).\n",
      "    ...         '''\n",
      "    ...         force = hints.pop('force', False)\n",
      "    ...         if not force and len(self.args) > 4:\n",
      "    ...             return self\n",
      "    ...         return self.func(*(self.args + self.args))\n",
      "    ...\n",
      "    >>> a = MyClass(1, 2, MyClass(3, 4))\n",
      "    >>> a\n",
      "    MyClass(1, 2, MyClass(3, 4))\n",
      "    >>> a.expand(double=True)\n",
      "    MyClass(1, 2, MyClass(3, 4, 3, 4), 1, 2, MyClass(3, 4, 3, 4))\n",
      "    >>> a.expand(double=True, deep=False)\n",
      "    MyClass(1, 2, MyClass(3, 4), 1, 2, MyClass(3, 4))\n",
      "    \n",
      "    >>> b = MyClass(1, 2, 3, 4, 5)\n",
      "    >>> b.expand(double=True)\n",
      "    MyClass(1, 2, 3, 4, 5)\n",
      "    >>> b.expand(double=True, force=True)\n",
      "    MyClass(1, 2, 3, 4, 5, 1, 2, 3, 4, 5)\n",
      "    \n",
      "    See Also\n",
      "    ========\n",
      "    \n",
      "    expand_log, expand_mul, expand_multinomial, expand_complex, expand_trig,\n",
      "    expand_power_base, expand_power_exp, expand_func, hyperexpand\n",
      "\n"
     ]
    }
   ],
   "source": [
    "help(expand)"
   ]
  },
  {
   "cell_type": "markdown",
   "metadata": {},
   "source": [
    "#### Rút gọn biểu thức"
   ]
  },
  {
   "cell_type": "code",
   "execution_count": 20,
   "metadata": {},
   "outputs": [
    {
     "data": {
      "image/png": "[encoded data removed]",
      "text/latex": [
       "$$2^{y} 6^{x}$$"
      ],
      "text/plain": [
       " y  x\n",
       "2 ⋅6 "
      ]
     },
     "execution_count": 20,
     "metadata": {},
     "output_type": "execute_result"
    }
   ],
   "source": [
    "simplify(2**x*3**x*2**y)"
   ]
  },
  {
   "cell_type": "code",
   "execution_count": 21,
   "metadata": {},
   "outputs": [
    {
     "data": {
      "image/png": "[encoded data removed]",
      "text/latex": [
       "$$\\frac{1}{\\cos^{2}{\\left (x \\right )}}$$"
      ],
      "text/plain": [
       "   1   \n",
       "───────\n",
       "   2   \n",
       "cos (x)"
      ]
     },
     "execution_count": 21,
     "metadata": {},
     "output_type": "execute_result"
    }
   ],
   "source": [
    "simplify(1+tan(x)**2)"
   ]
  },
  {
   "cell_type": "markdown",
   "metadata": {},
   "source": [
    "Đọc thêm về `simplify` tại: http://docs.sympy.org/latest/tutorial/simplification.html"
   ]
  },
  {
   "cell_type": "markdown",
   "metadata": {},
   "source": [
    "#### `apart` và `together`"
   ]
  },
  {
   "cell_type": "markdown",
   "metadata": {},
   "source": [
    "Kỹ thuật tách phân thức ra tổng hai phân thức hoặc cộng hai phân thức thường được dùng trong tính tích phân hoặc nguyên hàm.\n",
    "\n",
    "Ví dụ, tính tích phân:\n",
    "$$I = \\int\\frac{-17x-37}{(x+3)(3x+7)}dx$$"
   ]
  },
  {
   "cell_type": "code",
   "execution_count": 22,
   "metadata": {
    "collapsed": true
   },
   "outputs": [],
   "source": [
    "f = (-17*x-37)/((x+3)*(3*x+7))"
   ]
  },
  {
   "cell_type": "code",
   "execution_count": 23,
   "metadata": {
    "scrolled": true
   },
   "outputs": [
    {
     "data": {
      "image/png": "[encoded data removed]",
      "text/latex": [
       "$$\\frac{4}{3 x + 7} - \\frac{7}{x + 3}$$"
      ],
      "text/plain": [
       "   4        7  \n",
       "─────── - ─────\n",
       "3⋅x + 7   x + 3"
      ]
     },
     "execution_count": 23,
     "metadata": {},
     "output_type": "execute_result"
    }
   ],
   "source": [
    "apart(f)"
   ]
  },
  {
   "cell_type": "markdown",
   "metadata": {},
   "source": [
    "$$I = \\int\\left(\\frac{4}{3x+7} - \\frac{7}{x+3}\\right)dx = \\frac{4\\ln\\bigl| x+\\frac{7}{3} \\bigr|}{3} - 7\\ln\\bigl|x+3\\bigr|$$"
   ]
  },
  {
   "cell_type": "markdown",
   "metadata": {},
   "source": [
    "Ngược lại với `apart`:"
   ]
  },
  {
   "cell_type": "code",
   "execution_count": 24,
   "metadata": {},
   "outputs": [
    {
     "data": {
      "image/png": "[encoded data removed]",
      "text/latex": [
       "$$\\frac{- 17 x - 37}{\\left(x + 3\\right) \\left(3 x + 7\\right)}$$"
      ],
      "text/plain": [
       "    -17⋅x - 37   \n",
       "─────────────────\n",
       "(x + 3)⋅(3⋅x + 7)"
      ]
     },
     "execution_count": 24,
     "metadata": {},
     "output_type": "execute_result"
    }
   ],
   "source": [
    "together(4/(3*x+7) - 7/(x+3))"
   ]
  },
  {
   "cell_type": "markdown",
   "metadata": {},
   "source": [
    "Trong `sympy`, Python, và nhiều ngôn ngữ lập trình khác, $\\log$ được ngầm hiểu là logarithm cơ số tự nhiên ($\\ln$). Khác với toán học là cơ số 10."
   ]
  },
  {
   "cell_type": "markdown",
   "metadata": {},
   "source": [
    "### Tích phân"
   ]
  },
  {
   "cell_type": "markdown",
   "metadata": {},
   "source": [
    "#### Nguyên hàm"
   ]
  },
  {
   "cell_type": "markdown",
   "metadata": {},
   "source": [
    "Thay vì tính toán dài dòng như trên, có thể nhờ `sympy` tính hộ thông qua hàm `integrate`."
   ]
  },
  {
   "cell_type": "code",
   "execution_count": 25,
   "metadata": {},
   "outputs": [
    {
     "data": {
      "image/png": "[encoded data removed]",
      "text/latex": [
       "$$\\frac{4}{3} \\log{\\left (x + \\frac{7}{3} \\right )} - 7 \\log{\\left (x + 3 \\right )}$$"
      ],
      "text/plain": [
       "4⋅log(x + 7/3)               \n",
       "────────────── - 7⋅log(x + 3)\n",
       "      3                      "
      ]
     },
     "execution_count": 25,
     "metadata": {},
     "output_type": "execute_result"
    }
   ],
   "source": [
    "F = integrate(f, x)\n",
    "F"
   ]
  },
  {
   "cell_type": "code",
   "execution_count": 26,
   "metadata": {},
   "outputs": [
    {
     "data": {
      "image/png": "[encoded data removed]",
      "text/latex": [
       "$$- 7 \\log{\\left (4 \\right )} - \\frac{4}{3} \\log{\\left (5 \\right )} + \\frac{4}{3} \\log{\\left (10 \\right )} + \\frac{17 \\pi}{3} i$$"
      ],
      "text/plain": [
       "            4⋅log(5)   4⋅log(10)   17⋅ⅈ⋅π\n",
       "-7⋅log(4) - ──────── + ───────── + ──────\n",
       "               3           3         3   "
      ]
     },
     "execution_count": 26,
     "metadata": {},
     "output_type": "execute_result"
    }
   ],
   "source": [
    "integrate(f, (x, -4, 1))"
   ]
  },
  {
   "cell_type": "markdown",
   "metadata": {},
   "source": [
    "Tích phân có thể là hạn định hoặc không hạn định."
   ]
  },
  {
   "cell_type": "code",
   "execution_count": 27,
   "metadata": {},
   "outputs": [
    {
     "data": {
      "image/png": "[encoded data removed]",
      "text/latex": [
       "$$\\frac{1}{x}$$"
      ],
      "text/plain": [
       "1\n",
       "─\n",
       "x"
      ]
     },
     "execution_count": 27,
     "metadata": {},
     "output_type": "execute_result"
    }
   ],
   "source": [
    "integrate(-1/x**2, x)"
   ]
  },
  {
   "cell_type": "code",
   "execution_count": 28,
   "metadata": {},
   "outputs": [
    {
     "data": {
      "image/png": "[encoded data removed]",
      "text/latex": [
       "$$-1$$"
      ],
      "text/plain": [
       "-1"
      ]
     },
     "execution_count": 28,
     "metadata": {},
     "output_type": "execute_result"
    }
   ],
   "source": [
    "integrate(-1/x**2, (x, 1, oo))"
   ]
  },
  {
   "cell_type": "markdown",
   "metadata": {},
   "source": [
    "#### Đạo hàm"
   ]
  },
  {
   "cell_type": "code",
   "execution_count": 29,
   "metadata": {},
   "outputs": [
    {
     "data": {
      "image/png": "[encoded data removed]",
      "text/latex": [
       "$$- \\frac{1}{x^{2}}$$"
      ],
      "text/plain": [
       "-1 \n",
       "───\n",
       "  2\n",
       " x "
      ]
     },
     "execution_count": 29,
     "metadata": {},
     "output_type": "execute_result"
    }
   ],
   "source": [
    "diff(1/x, x, 1) # Đạo hàm cấp 1"
   ]
  },
  {
   "cell_type": "code",
   "execution_count": 30,
   "metadata": {
    "scrolled": true
   },
   "outputs": [
    {
     "data": {
      "image/png": "[encoded data removed]",
      "text/latex": [
       "$$\\frac{2}{x^{3}}$$"
      ],
      "text/plain": [
       "2 \n",
       "──\n",
       " 3\n",
       "x "
      ]
     },
     "execution_count": 30,
     "metadata": {},
     "output_type": "execute_result"
    }
   ],
   "source": [
    "diff(1/x, x, 2) # Đạo hàm cấp 2"
   ]
  },
  {
   "cell_type": "markdown",
   "metadata": {},
   "source": [
    "Tính $\\frac{d^3f}{dxdy^2}$:"
   ]
  },
  {
   "cell_type": "code",
   "execution_count": 31,
   "metadata": {},
   "outputs": [
    {
     "data": {
      "image/png": "[encoded data removed]",
      "text/latex": [
       "$$\\sin{\\left (x + y \\right )}$$"
      ],
      "text/plain": [
       "sin(x + y)"
      ]
     },
     "execution_count": 31,
     "metadata": {},
     "output_type": "execute_result"
    }
   ],
   "source": [
    "diff(sin(x)+cos(x+y), x, 1, y, 2)"
   ]
  },
  {
   "cell_type": "markdown",
   "metadata": {},
   "source": [
    "#### Giới hạn"
   ]
  },
  {
   "cell_type": "markdown",
   "metadata": {},
   "source": [
    "Tính: $\\lim_{x\\rightarrow 0}\\frac{1}{x}$"
   ]
  },
  {
   "cell_type": "code",
   "execution_count": 32,
   "metadata": {},
   "outputs": [
    {
     "data": {
      "image/png": "[encoded data removed]",
      "text/latex": [
       "$$\\infty$$"
      ],
      "text/plain": [
       "∞"
      ]
     },
     "execution_count": 32,
     "metadata": {},
     "output_type": "execute_result"
    }
   ],
   "source": [
    "limit(1/x, x, 0)"
   ]
  },
  {
   "cell_type": "markdown",
   "metadata": {},
   "source": [
    "### Tổng và tích"
   ]
  },
  {
   "cell_type": "code",
   "execution_count": 33,
   "metadata": {},
   "outputs": [
    {
     "data": {
      "image/png": "[encoded data removed]",
      "text/latex": [
       "$$\\sum_{x=0}^{\\infty} \\left(\\frac{1}{2}\\right)^{x}$$"
      ],
      "text/plain": [
       "  ∞      \n",
       " ___     \n",
       " ╲       \n",
       "  ╲    -x\n",
       "  ╱   2  \n",
       " ╱       \n",
       " ‾‾‾     \n",
       "x = 0    "
      ]
     },
     "execution_count": 33,
     "metadata": {},
     "output_type": "execute_result"
    }
   ],
   "source": [
    "s = Sum(Rational(1,2)**x, (x, 0, oo))\n",
    "s"
   ]
  },
  {
   "cell_type": "code",
   "execution_count": 34,
   "metadata": {},
   "outputs": [
    {
     "data": {
      "image/png": "[encoded data removed]",
      "text/latex": [
       "$$2.0$$"
      ],
      "text/plain": [
       "2.00000000000000"
      ]
     },
     "execution_count": 34,
     "metadata": {},
     "output_type": "execute_result"
    }
   ],
   "source": [
    "s.evalf()"
   ]
  },
  {
   "cell_type": "code",
   "execution_count": 35,
   "metadata": {},
   "outputs": [
    {
     "data": {
      "image/png": "[encoded data removed]",
      "text/latex": [
       "$$\\prod_{x=1}^{10} 2$$"
      ],
      "text/plain": [
       "  10   \n",
       "┬───┬  \n",
       "│   │ 2\n",
       "│   │  \n",
       "x = 1  "
      ]
     },
     "execution_count": 35,
     "metadata": {},
     "output_type": "execute_result"
    }
   ],
   "source": [
    "p = Product(2, (x, 1, 10))\n",
    "p"
   ]
  },
  {
   "cell_type": "code",
   "execution_count": 36,
   "metadata": {},
   "outputs": [
    {
     "data": {
      "image/png": "[encoded data removed]",
      "text/latex": [
       "$$1024.0$$"
      ],
      "text/plain": [
       "1024.00000000000"
      ]
     },
     "execution_count": 36,
     "metadata": {},
     "output_type": "execute_result"
    }
   ],
   "source": [
    "N(p)"
   ]
  },
  {
   "cell_type": "markdown",
   "metadata": {},
   "source": [
    "### Giải phương trình và hệ phương trình"
   ]
  },
  {
   "cell_type": "markdown",
   "metadata": {},
   "source": [
    "Ví dụ, giải phương trình $x^4 - 16 = 0$ theo biến $x$ ($y$ là tham số):"
   ]
  },
  {
   "cell_type": "code",
   "execution_count": 37,
   "metadata": {},
   "outputs": [
    {
     "data": {
      "image/png": "[encoded data removed]",
      "text/latex": [
       "$$\\left [ - \\sqrt[4]{y}, \\quad \\sqrt[4]{y}, \\quad - i \\sqrt[4]{y}, \\quad i \\sqrt[4]{y}\\right ]$$"
      ],
      "text/plain": [
       "⎡ 4 ___  4 ___     4 ___    4 ___⎤\n",
       "⎣-╲╱ y , ╲╱ y , -ⅈ⋅╲╱ y , ⅈ⋅╲╱ y ⎦"
      ]
     },
     "execution_count": 37,
     "metadata": {},
     "output_type": "execute_result"
    }
   ],
   "source": [
    "solve(x**4-y, x)"
   ]
  },
  {
   "cell_type": "markdown",
   "metadata": {},
   "source": [
    "Ví dụ, giải hệ phương trình sau theo biến $x,y$:\n",
    "\\begin{align}\n",
    "x+xy & = 0 \\\\\n",
    "x-y^2 & = 0 \\\\\n",
    "\\end{align}"
   ]
  },
  {
   "cell_type": "code",
   "execution_count": 38,
   "metadata": {},
   "outputs": [
    {
     "data": {
      "image/png": "[encoded data removed]",
      "text/latex": [
       "$$\\left [ \\left ( 0, \\quad 0\\right ), \\quad \\left ( 1, \\quad -1\\right )\\right ]$$"
      ],
      "text/plain": [
       "[(0, 0), (1, -1)]"
      ]
     },
     "execution_count": 38,
     "metadata": {},
     "output_type": "execute_result"
    }
   ],
   "source": [
    "solve([x+x*y, x-y**2], [x,y])"
   ]
  }
 ],
 "metadata": {
  "kernelspec": {
   "display_name": "Python 3",
   "language": "python",
   "name": "python3"
  },
  "language_info": {
   "codemirror_mode": {
    "name": "ipython",
    "version": 3
   },
   "file_extension": ".py",
   "mimetype": "text/x-python",
   "name": "python",
   "nbconvert_exporter": "python",
   "pygments_lexer": "ipython3",
   "version": "3.6.0"
  }
 },
 "nbformat": 4,
 "nbformat_minor": 2
}
