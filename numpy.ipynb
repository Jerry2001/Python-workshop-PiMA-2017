{
 "cells": [
  {
   "cell_type": "code",
   "execution_count": 1,
   "metadata": {
    "collapsed": true
   },
   "outputs": [],
   "source": [
    "import numpy as np"
   ]
  },
  {
   "cell_type": "markdown",
   "metadata": {},
   "source": [
    "### Tạo một mảng `numpy`\n",
    "Mảng `numpy` có thể là mảng một chiều (vector), ma trận (mảng hai chiều, matrix), và mảng đa chiều (từ 3 chiều trở lên). Một mảng có thể được hình thành từ một danh sách, một hàm, hoặc đọc từ file (phần tự tìm hiểu).\n",
    "#### Sử dụng danh sách"
   ]
  },
  {
   "cell_type": "code",
   "execution_count": 2,
   "metadata": {},
   "outputs": [
    {
     "name": "stdout",
     "output_type": "stream",
     "text": [
      "[2 0 1 7]\n",
      "[[2 0]\n",
      " [1 7]]\n",
      "<class 'numpy.ndarray'>\n",
      "(4,)\n",
      "(2, 2)\n",
      "4\n",
      "int64\n"
     ]
    }
   ],
   "source": [
    "v = np.array([2, 0, 1, 7])\n",
    "m = np.array([[2, 0], [1, 7]])\n",
    "print(v)\n",
    "print(m)\n",
    "print(type(v))\n",
    "print(v.shape)\n",
    "print(m.shape)\n",
    "print(m.size)\n",
    "print(m.dtype)"
   ]
  },
  {
   "cell_type": "markdown",
   "metadata": {},
   "source": [
    "Mỗi một numpy array có _attribute_ là:\n",
    "- `shape` (hình dạng) mô tả kích thước mỗi chiều của array\n",
    "- `size` (kích thước) mô tả số phần tử của array\n",
    "- `dtype` kiểu dữ liệu của mỗi phần tử trong array\n",
    "\n",
    "Trong ví dụ trên chúng ta thử tạo một matrix `m` bằng một nested list `2 x 2`. Tuy nhiên sẽ như thế nào nếu chúng ta \"nhập thiếu\" một phần tử, khiến matrix có một \"lỗ hổng\"? Xem ví dụ sau:"
   ]
  },
  {
   "cell_type": "code",
   "execution_count": 3,
   "metadata": {},
   "outputs": [
    {
     "name": "stdout",
     "output_type": "stream",
     "text": [
      "[list([1]) list([2, 3])]\n",
      "object\n"
     ]
    }
   ],
   "source": [
    "m = np.array([[1], [2,3]])\n",
    "print(m)\n",
    "print(m.dtype)"
   ]
  },
  {
   "cell_type": "markdown",
   "metadata": {},
   "source": [
    "Vậy, khi nhận ra nested list cung cấp không đủ điều kiện cấu thành một matrix (hay multi-dimensional array) thì `numpy` sẽ tìm nhiều cách \"nhận dạng\" dữ liệu và cuối cùng vẫn tạo thành một array hoàn chỉnh!"
   ]
  },
  {
   "cell_type": "markdown",
   "metadata": {},
   "source": [
    "Chúng ta có thể cố ý gán kiểu dữ liệu cho các phần tử của một array **từ lệnh khởi tạo**. Chẳng hạn như danh sách truyền vào gồm các số nguyên (int), nhưng bạn muốn array nhận dạng nó như là số thực (float):"
   ]
  },
  {
   "cell_type": "code",
   "execution_count": 4,
   "metadata": {},
   "outputs": [
    {
     "name": "stdout",
     "output_type": "stream",
     "text": [
      "[[ 2.  0.]\n",
      " [ 1.  7.]]\n"
     ]
    }
   ],
   "source": [
    "m = np.array([[2, 0], [1, 7]], dtype=float)\n",
    "print(m)"
   ]
  },
  {
   "cell_type": "markdown",
   "metadata": {},
   "source": [
    "Sau bước khởi tạo, mọi thay đổi lên array gây ra mâu thuẫn với kiểu dữ liệu hiện tại sẽ gặp lỗi."
   ]
  },
  {
   "cell_type": "code",
   "execution_count": 5,
   "metadata": {},
   "outputs": [
    {
     "ename": "TypeError",
     "evalue": "can't convert complex to float",
     "output_type": "error",
     "traceback": [
      "\u001b[0;31m---------------------------------------------------------------------------\u001b[0m",
      "\u001b[0;31mTypeError\u001b[0m                                 Traceback (most recent call last)",
      "\u001b[0;32m<ipython-input-5-5e15cdf865d7>\u001b[0m in \u001b[0;36m<module>\u001b[0;34m()\u001b[0m\n\u001b[0;32m----> 1\u001b[0;31m \u001b[0mm\u001b[0m\u001b[0;34m[\u001b[0m\u001b[0;36m0\u001b[0m\u001b[0;34m,\u001b[0m \u001b[0;36m0\u001b[0m\u001b[0;34m]\u001b[0m \u001b[0;34m=\u001b[0m \u001b[0;36m1\u001b[0m \u001b[0;34m+\u001b[0m \u001b[0;36m2j\u001b[0m \u001b[0;31m# Số phức gán vào phần tử số thực\u001b[0m\u001b[0;34m\u001b[0m\u001b[0m\n\u001b[0m",
      "\u001b[0;31mTypeError\u001b[0m: can't convert complex to float"
     ]
    }
   ],
   "source": [
    "m[0, 0] = 1 + 2j # Số phức gán vào phần tử số thực"
   ]
  },
  {
   "cell_type": "markdown",
   "metadata": {},
   "source": [
    "#### Sử dụng hàm\n",
    "Một array có thể được tạo nhanh bằng hàm có sẵn như:\n",
    "- `np.arange(begin, end, step)`: khá giống với hàm `range` đã giới thiệu.\n",
    "- `np.rand(shape)` và `np.randn(shape)`: sinh ngẫu nhiên các số thực.\n",
    "- `np.diag(list, offset)`: tạo ma trận vuông với đường chéo cho trước bởi `list` sao cho đường chéo này lệnh với đường chéo chính một số bằng `offset`.\n",
    "- `np.zeros(shape)` và `np.ones(shape)`: array toàn 0 hoặc 1.\n",
    "\n",
    "Tham khảo các ví dụ sau đây:"
   ]
  },
  {
   "cell_type": "code",
   "execution_count": 6,
   "metadata": {},
   "outputs": [
    {
     "name": "stdout",
     "output_type": "stream",
     "text": [
      "[1 3 5 7 9]\n",
      "[ 1.   1.5  2.   2.5  3.   3.5  4.   4.5  5.   5.5  6.   6.5  7.   7.5  8.\n",
      "  8.5  9.   9.5]\n"
     ]
    }
   ],
   "source": [
    "v1 = np.arange(1, 10, 2)\n",
    "v2 = np.arange(1, 10, 0.5)\n",
    "print(v1)\n",
    "print(v2)"
   ]
  },
  {
   "cell_type": "code",
   "execution_count": 7,
   "metadata": {},
   "outputs": [
    {
     "name": "stdout",
     "output_type": "stream",
     "text": [
      "[[ 0.08505417  0.36823415]\n",
      " [ 0.08447887  0.59031621]]\n",
      "[[-0.32345271 -1.56624429 -1.73611476]\n",
      " [ 0.33199158 -1.43788374 -1.45922628]]\n"
     ]
    }
   ],
   "source": [
    "m1 = np.random.rand(2,2) # Random khoảng [0; 1]\n",
    "m2 = np.random.randn(2,3) # Random không có giới hạn\n",
    "print(m1)\n",
    "print(m2)"
   ]
  },
  {
   "cell_type": "code",
   "execution_count": 8,
   "metadata": {},
   "outputs": [
    {
     "name": "stdout",
     "output_type": "stream",
     "text": [
      "[[1 0 0]\n",
      " [0 2 0]\n",
      " [0 0 3]] \n",
      "\n",
      "[[0 1 0 0]\n",
      " [0 0 2 0]\n",
      " [0 0 0 3]\n",
      " [0 0 0 0]] \n",
      "\n",
      "[[0 0 0 0]\n",
      " [1 0 0 0]\n",
      " [0 2 0 0]\n",
      " [0 0 3 0]] \n",
      "\n"
     ]
    }
   ],
   "source": [
    "m1 = np.diag([1,2,3])\n",
    "m2 = np.diag([1,2,3], 1)\n",
    "m3 = np.diag([1,2,3], -1)\n",
    "print(m1, '\\n') # Ký tự xuống dòng khi in\n",
    "print(m2, '\\n') # để giản cách\n",
    "print(m3, '\\n') # giữa các ma trận"
   ]
  },
  {
   "cell_type": "code",
   "execution_count": 9,
   "metadata": {},
   "outputs": [
    {
     "name": "stdout",
     "output_type": "stream",
     "text": [
      "[[ 0.  0.  0.]\n",
      " [ 0.  0.  0.]] \n",
      "\n",
      "[[ 1.  1.]\n",
      " [ 1.  1.]\n",
      " [ 1.  1.]] \n",
      "\n"
     ]
    }
   ],
   "source": [
    "m1 = np.zeros((2,3)) # Tham số là tuple\n",
    "m2 = np.ones((3,2)) # biểu thị kích thước array cần tạo\n",
    "print(m1, '\\n')\n",
    "print(m2, '\\n')"
   ]
  },
  {
   "cell_type": "markdown",
   "metadata": {},
   "source": [
    "Hoặc tận dụng phương pháp tạo nhanh `list` để truyền vào array (ghi chú: đoạn code sau không dùng lệnh `print` nhưng vẫn hiện được kết quả)"
   ]
  },
  {
   "cell_type": "code",
   "execution_count": 10,
   "metadata": {},
   "outputs": [
    {
     "data": {
      "text/plain": [
       "array([[ 1,  2,  3,  4,  5],\n",
       "       [ 6,  7,  8,  9, 10],\n",
       "       [11, 12, 13, 14, 15],\n",
       "       [16, 17, 18, 19, 20],\n",
       "       [21, 22, 23, 24, 25]])"
      ]
     },
     "execution_count": 10,
     "metadata": {},
     "output_type": "execute_result"
    }
   ],
   "source": [
    "nested_list = [[i*5+j+1 for j in range(5)] for i in range(5)]\n",
    "arr = np.array(nested_list)\n",
    "arr"
   ]
  },
  {
   "cell_type": "markdown",
   "metadata": {},
   "source": [
    "### Thêm cột hoặc hàng vào `numpy` array\n",
    "Bạn đọc tự nghiên cứu thêm tại https://stackoverflow.com/a/8505658/6543459."
   ]
  },
  {
   "cell_type": "markdown",
   "metadata": {},
   "source": [
    "### Truy xuất phần tử trong `numpy` array\n",
    "Trong list 2 chiều (nested list), để gọi một phần tử chúng ta phải cung cấp từng chỉ số theo kiểu `list[1][2]...`, nhưng đối với `numpy` array, công việc trở nên gọn hơn một tí: `array[1, 2, ...]`.\n",
    "\n",
    "Ngoài ra, thay vì đưa vào các chỉ số như 1 hoặc 2, `numpy` array còn nhận chỉ số dạng 1 list và ghép kết quả lại với nhau. Ví dụ sau lần lượt chọn ra các phần tử `arr[2, 1], arr[0, 2], arr[4, 0]`:"
   ]
  },
  {
   "cell_type": "code",
   "execution_count": 11,
   "metadata": {},
   "outputs": [
    {
     "data": {
      "text/plain": [
       "array([12,  3, 21])"
      ]
     },
     "execution_count": 11,
     "metadata": {},
     "output_type": "execute_result"
    }
   ],
   "source": [
    "row_indices = [2, 0, 4]\n",
    "col_indices = [1, 2, 0]\n",
    "arr[row_indices, col_indices]"
   ]
  },
  {
   "cell_type": "markdown",
   "metadata": {},
   "source": [
    "Hoặc có thể chọn ra các dòng/cột rời rạc rồi ghép lại với nhau thành một array mới:"
   ]
  },
  {
   "cell_type": "code",
   "execution_count": 12,
   "metadata": {},
   "outputs": [
    {
     "data": {
      "text/plain": [
       "array([[11, 12, 13, 14, 15],\n",
       "       [ 1,  2,  3,  4,  5],\n",
       "       [21, 22, 23, 24, 25]])"
      ]
     },
     "execution_count": 12,
     "metadata": {},
     "output_type": "execute_result"
    }
   ],
   "source": [
    "arr[row_indices]"
   ]
  },
  {
   "cell_type": "markdown",
   "metadata": {},
   "source": [
    "_Câu hỏi:_ Nối tiếp đoạn code trên, dự đoán kết quả của `arr[row_indices][col_indices]`"
   ]
  },
  {
   "cell_type": "markdown",
   "metadata": {},
   "source": [
    "\n",
    "\n",
    "### Cắt mảng (slice)\n",
    "Cách cắt `numpy` vector không quá khác biệt so với `list`. Nhưng cần chú ý về mảng đa chiều. Giả sử muốn lấy một hình vuông `3x3` từ mảng `arr` có ô trái trên là ô `[1,2]` (số 7)."
   ]
  },
  {
   "cell_type": "code",
   "execution_count": 13,
   "metadata": {},
   "outputs": [
    {
     "data": {
      "text/plain": [
       "array([[ 8,  9, 10],\n",
       "       [13, 14, 15],\n",
       "       [18, 19, 20]])"
      ]
     },
     "execution_count": 13,
     "metadata": {},
     "output_type": "execute_result"
    }
   ],
   "source": [
    "arr[1:4, 2:5]"
   ]
  },
  {
   "cell_type": "code",
   "execution_count": 14,
   "metadata": {},
   "outputs": [
    {
     "data": {
      "text/plain": [
       "[[16, 17, 18, 19, 20]]"
      ]
     },
     "execution_count": 14,
     "metadata": {},
     "output_type": "execute_result"
    }
   ],
   "source": [
    "nested_list[1:4][2:5]"
   ]
  },
  {
   "cell_type": "markdown",
   "metadata": {},
   "source": [
    "_Câu hỏi:_ Giải thích vì sao cắt `nested_list` không cho ra một mảng vuông như mong đợi?"
   ]
  },
  {
   "cell_type": "markdown",
   "metadata": {},
   "source": [
    "### Đại số tuyến tính"
   ]
  },
  {
   "cell_type": "markdown",
   "metadata": {},
   "source": [
    "#### Cộng, trừ, nhân, chia một mảng với một số\n",
    "Khi đó mỗi phần tử của mảng sẽ bị cộng, trừ, nhân, chia với số đó.\n",
    "\n",
    "#### Cộng, trừ, nhân, chia một mảng với một mảng thích hợp (Element-wise operations)\n",
    "Nếu `shape` của hai mảng như nhau thì phép toán được áp dụng giữa hai phần tử cùng vị trí. Còn nhiều cách khác để `numpy` nhận dạng độ thích hợp giữa hai mảng và thực hiện phép toán, tuy nhiên chủ đề này rộng và khá phức tạp."
   ]
  },
  {
   "cell_type": "code",
   "execution_count": 15,
   "metadata": {},
   "outputs": [
    {
     "data": {
      "text/plain": [
       "array([[ 1,  2,  3,  4,  5],\n",
       "       [ 6,  7,  8,  9, 10],\n",
       "       [11, 12, 13, 14, 15],\n",
       "       [16, 17, 18, 19, 20],\n",
       "       [21, 22, 23, 24, 25]])"
      ]
     },
     "execution_count": 15,
     "metadata": {},
     "output_type": "execute_result"
    }
   ],
   "source": [
    "arr"
   ]
  },
  {
   "cell_type": "code",
   "execution_count": 16,
   "metadata": {},
   "outputs": [
    {
     "data": {
      "text/plain": [
       "array([[  1,   4,   9,  16,  25],\n",
       "       [ 36,  49,  64,  81, 100],\n",
       "       [121, 144, 169, 196, 225],\n",
       "       [256, 289, 324, 361, 400],\n",
       "       [441, 484, 529, 576, 625]])"
      ]
     },
     "execution_count": 16,
     "metadata": {},
     "output_type": "execute_result"
    }
   ],
   "source": [
    "arr * arr"
   ]
  },
  {
   "cell_type": "markdown",
   "metadata": {},
   "source": [
    "Trên mỗi hàng, từ trái sang các phần tử lần lượt nhân với 1, 2, 3, 4, 5."
   ]
  },
  {
   "cell_type": "code",
   "execution_count": 17,
   "metadata": {},
   "outputs": [
    {
     "data": {
      "text/plain": [
       "array([[  1,   4,   9,  16,  25],\n",
       "       [  6,  14,  24,  36,  50],\n",
       "       [ 11,  24,  39,  56,  75],\n",
       "       [ 16,  34,  54,  76, 100],\n",
       "       [ 21,  44,  69,  96, 125]])"
      ]
     },
     "execution_count": 17,
     "metadata": {},
     "output_type": "execute_result"
    }
   ],
   "source": [
    "arr * np.array([1, 2, 3, 4, 5])"
   ]
  },
  {
   "cell_type": "markdown",
   "metadata": {},
   "source": [
    "Trên mỗi cột, từ trên xuống các phần tử lần lượt nhân với 1, 2, 3, 4, 5."
   ]
  },
  {
   "cell_type": "code",
   "execution_count": 18,
   "metadata": {
    "scrolled": true
   },
   "outputs": [
    {
     "data": {
      "text/plain": [
       "array([[  1,   2,   3,   4,   5],\n",
       "       [ 12,  14,  16,  18,  20],\n",
       "       [ 33,  36,  39,  42,  45],\n",
       "       [ 64,  68,  72,  76,  80],\n",
       "       [105, 110, 115, 120, 125]])"
      ]
     },
     "execution_count": 18,
     "metadata": {},
     "output_type": "execute_result"
    }
   ],
   "source": [
    "arr * np.array([[1], [2], [3], [4], [5]])"
   ]
  },
  {
   "cell_type": "markdown",
   "metadata": {},
   "source": [
    "### Ma trận"
   ]
  },
  {
   "cell_type": "markdown",
   "metadata": {},
   "source": [
    "Mặc dù đã thảo luận nhiều về ma trận qua các array hai chiều, chúng ta vẫn chưa sử dụng đến lớp `matrix` trong thư viện `numpy` mạnh mẽ này. Khi đã có sẵn array hai chiều, chỉ cần truyền nó vào hàm khởi tạo ma trận là được. Hoặc cũng có thể truyền list / nested-list vào cũng được\n",
    "\n",
    "Khi đang ở kiểu dữ liệu `matrix`, các phép toán cộng, trừ, nhân, chia được thay đổi để phù hợp các phép toán ma trận mà bạn được học."
   ]
  },
  {
   "cell_type": "code",
   "execution_count": 19,
   "metadata": {},
   "outputs": [
    {
     "data": {
      "text/plain": [
       "matrix([[1, 2, 3, 4, 5]])"
      ]
     },
     "execution_count": 19,
     "metadata": {},
     "output_type": "execute_result"
    }
   ],
   "source": [
    "v = np.matrix([1, 2, 3, 4, 5]) # Dùng list để khởi tạo\n",
    "v"
   ]
  },
  {
   "cell_type": "code",
   "execution_count": 20,
   "metadata": {},
   "outputs": [
    {
     "data": {
      "text/plain": [
       "matrix([[ 2,  4,  6,  8, 10],\n",
       "        [12, 14, 16, 18, 20],\n",
       "        [22, 24, 26, 28, 30],\n",
       "        [32, 34, 36, 38, 40],\n",
       "        [42, 44, 46, 48, 50]])"
      ]
     },
     "execution_count": 20,
     "metadata": {},
     "output_type": "execute_result"
    }
   ],
   "source": [
    "M = np.matrix(arr) # Dùng np.array để khởi tạo\n",
    "M + M"
   ]
  },
  {
   "cell_type": "code",
   "execution_count": 21,
   "metadata": {},
   "outputs": [
    {
     "data": {
      "text/plain": [
       "matrix([[ 215,  230,  245,  260,  275],\n",
       "        [ 490,  530,  570,  610,  650],\n",
       "        [ 765,  830,  895,  960, 1025],\n",
       "        [1040, 1130, 1220, 1310, 1400],\n",
       "        [1315, 1430, 1545, 1660, 1775]])"
      ]
     },
     "execution_count": 21,
     "metadata": {},
     "output_type": "execute_result"
    }
   ],
   "source": [
    "M * M"
   ]
  },
  {
   "cell_type": "markdown",
   "metadata": {},
   "source": [
    "Ma trận `M` được tạo từ np.array `arr` nhưng kết quả của `M*M` khác so với `arr*arr` ở phần trước. Đó là vì `M*M` là nhân ma trận, còn `arr*arr` là nhân theo kiểu element-wise.\n",
    "\n",
    "Tất nhiên nếu hai ma trận nhân với nhau mà không có số cột và dòng tương thích thì sẽ sinh ra lỗi.\n",
    "\n",
    "Ngoài ra, thư viện `numpy` giúp chúng ta tính ma trận chuyển vị và ma trận nghịch đảo thông qua thuộc tính `T` (hoặc hàm `np.matrix.transpose(Matrix)`) và thuộc tính `I` (hoặc hàm `np.matrix.inverse(Matrix)`)."
   ]
  },
  {
   "cell_type": "code",
   "execution_count": 22,
   "metadata": {},
   "outputs": [
    {
     "data": {
      "text/plain": [
       "matrix([[ 2,  3],\n",
       "        [ 7,  8],\n",
       "        [12, 13]])"
      ]
     },
     "execution_count": 22,
     "metadata": {},
     "output_type": "execute_result"
    }
   ],
   "source": [
    "M2 = M[0:3, 1:3]\n",
    "M2"
   ]
  },
  {
   "cell_type": "code",
   "execution_count": 23,
   "metadata": {},
   "outputs": [
    {
     "data": {
      "text/plain": [
       "matrix([[ 2,  7, 12],\n",
       "        [ 3,  8, 13]])"
      ]
     },
     "execution_count": 23,
     "metadata": {},
     "output_type": "execute_result"
    }
   ],
   "source": [
    "M2.T"
   ]
  },
  {
   "cell_type": "code",
   "execution_count": 24,
   "metadata": {},
   "outputs": [
    {
     "data": {
      "text/plain": [
       "matrix([[-1.13333333, -0.33333333,  0.46666667],\n",
       "        [ 1.03333333,  0.33333333, -0.36666667]])"
      ]
     },
     "execution_count": 24,
     "metadata": {},
     "output_type": "execute_result"
    }
   ],
   "source": [
    "M2.I"
   ]
  },
  {
   "cell_type": "markdown",
   "metadata": {},
   "source": [
    "Tính định thức ma trận:"
   ]
  },
  {
   "cell_type": "code",
   "execution_count": 25,
   "metadata": {},
   "outputs": [
    {
     "name": "stdout",
     "output_type": "stream",
     "text": [
      "[[1 2]\n",
      " [6 7]]\n"
     ]
    },
    {
     "data": {
      "text/plain": [
       "-4.9999999999999991"
      ]
     },
     "execution_count": 25,
     "metadata": {},
     "output_type": "execute_result"
    }
   ],
   "source": [
    "print(M[0:2, 0:2])\n",
    "np.linalg.det(M[0:2, 0:2])"
   ]
  },
  {
   "cell_type": "markdown",
   "metadata": {},
   "source": [
    "### Ma trận số phức"
   ]
  },
  {
   "cell_type": "markdown",
   "metadata": {},
   "source": [
    "`numpy` hỗ trợ thêm các hàm nhận một ma trận số phức như `np.matrix.conjugate` (lấy số phức liên hợp), `np.real` (lấy phần thực), `np.imag` (lấy phần ảo), `np.angle` (lấy argument). Các bạn tự tìm hiểu thêm."
   ]
  },
  {
   "cell_type": "markdown",
   "metadata": {},
   "source": [
    "### Thống kê"
   ]
  },
  {
   "cell_type": "code",
   "execution_count": 26,
   "metadata": {},
   "outputs": [
    {
     "data": {
      "text/plain": [
       "array([-0.28180827, -1.60755982,  0.24484165,  0.69211047,  0.40448546,\n",
       "       -0.56704428,  1.03392534,  0.09980076, -0.55093309, -0.12183676,\n",
       "       -1.62183064,  0.44527402, -0.50937277, -0.62967169, -0.5582324 ,\n",
       "       -1.44847   ,  0.06682618,  1.21392528, -0.11920692, -0.83961869])"
      ]
     },
     "execution_count": 26,
     "metadata": {},
     "output_type": "execute_result"
    }
   ],
   "source": [
    "data = np.random.randn(20)\n",
    "data"
   ]
  },
  {
   "cell_type": "markdown",
   "metadata": {},
   "source": [
    "- `np.var`: Phương sai (variance)\n",
    "- `np.std`: Độ lệch chuẩn (standard deviation)\n",
    "- `np.min`: Giá trị nhỏ nhất\n",
    "- `np.max`: Giá trị lớn nhất\n",
    "- `np.mean`: Giá trị trung bình"
   ]
  },
  {
   "cell_type": "code",
   "execution_count": 27,
   "metadata": {},
   "outputs": [
    {
     "name": "stdout",
     "output_type": "stream",
     "text": [
      "0.604671457221\n",
      "0.777606235328\n",
      "-1.62183063943\n",
      "1.21392527962\n",
      "-0.232719807776\n"
     ]
    }
   ],
   "source": [
    "print(np.var(data))\n",
    "print(np.std(data))\n",
    "print(np.min(data))\n",
    "print(np.max(data))\n",
    "print(np.mean(data))"
   ]
  },
  {
   "cell_type": "markdown",
   "metadata": {},
   "source": [
    "- Kiểm tra có ít nhất một (any) hoặc tất cả (all) các phần tử trong array có thỏa điều kiện cho trước hay không"
   ]
  },
  {
   "cell_type": "code",
   "execution_count": 28,
   "metadata": {},
   "outputs": [
    {
     "name": "stdout",
     "output_type": "stream",
     "text": [
      "False\n",
      "True\n"
     ]
    }
   ],
   "source": [
    "print((data > 2).any())\n",
    "print((data < 5).all())"
   ]
  },
  {
   "cell_type": "markdown",
   "metadata": {},
   "source": [
    "- Chọn ra một vài phần tử thỏa mãn điều kiện bằng cách dùng \"mặt nạ\" theo cú pháp: `data[bool_array]`. Ví dụ cần chọn ra các số lớn hơn 0 và nhỏ hơn 1 trong `data`:"
   ]
  },
  {
   "cell_type": "code",
   "execution_count": 29,
   "metadata": {},
   "outputs": [
    {
     "data": {
      "text/plain": [
       "array([ 0.24484165,  0.69211047,  0.40448546,  0.09980076,  0.44527402,\n",
       "        0.06682618])"
      ]
     },
     "execution_count": 29,
     "metadata": {},
     "output_type": "execute_result"
    }
   ],
   "source": [
    "mask = (data > 0) * (data < 1)\n",
    "data[mask]"
   ]
  },
  {
   "cell_type": "markdown",
   "metadata": {},
   "source": [
    "_Câu hỏi:_ Giải thích cách làm trên."
   ]
  },
  {
   "cell_type": "markdown",
   "metadata": {},
   "source": [
    "### Pass by reference"
   ]
  },
  {
   "cell_type": "markdown",
   "metadata": {},
   "source": [
    "Khi \"sao chép\" một biến B sang một biến A khác, để tiếp kiệm bộ nhớ, Python không hoàn toàn cấp cho A một khoảng bộ nhớ cần thiết cho dữ liệu mà chỉ đưa cho A địa chỉ tham chiếu (reference) của B. Do đó việc thay đổi biến A sẽ thay đổi biến B và ngược lại."
   ]
  },
  {
   "cell_type": "code",
   "execution_count": 30,
   "metadata": {},
   "outputs": [
    {
     "name": "stdout",
     "output_type": "stream",
     "text": [
      "[1 2 3 4 5]\n",
      "[7 2 3 4 5]\n"
     ]
    }
   ],
   "source": [
    "v = np.array([1,2,3,4,5])\n",
    "print(v)\n",
    "copy_v = v\n",
    "copy_v[0] = 7\n",
    "print(v)"
   ]
  },
  {
   "cell_type": "markdown",
   "metadata": {},
   "source": [
    "### Vector hóa một hàm"
   ]
  },
  {
   "cell_type": "markdown",
   "metadata": {},
   "source": [
    "Xét hàm sau:"
   ]
  },
  {
   "cell_type": "code",
   "execution_count": 31,
   "metadata": {
    "collapsed": true
   },
   "outputs": [],
   "source": [
    "def f(x):\n",
    "    if x**2 > 1:\n",
    "        if x > 0:\n",
    "            return 1.0\n",
    "        else:\n",
    "            return -1.0\n",
    "    else:\n",
    "        return x"
   ]
  },
  {
   "cell_type": "markdown",
   "metadata": {},
   "source": [
    "Làm sao áp dụng hàm `f` này với mọi phần tử trong mảng `data` nói trên? Cách đơn giản là dùng dòng `for`, nhưng fan của `numpy` lại lựa chọn cách làm sau:"
   ]
  },
  {
   "cell_type": "code",
   "execution_count": 32,
   "metadata": {},
   "outputs": [
    {
     "data": {
      "text/plain": [
       "array([-0.28180827, -1.        ,  0.24484165,  0.69211047,  0.40448546,\n",
       "       -0.56704428,  1.        ,  0.09980076, -0.55093309, -0.12183676,\n",
       "       -1.        ,  0.44527402, -0.50937277, -0.62967169, -0.5582324 ,\n",
       "       -1.        ,  0.06682618,  1.        , -0.11920692, -0.83961869])"
      ]
     },
     "execution_count": 32,
     "metadata": {},
     "output_type": "execute_result"
    }
   ],
   "source": [
    "vf = np.vectorize(f)\n",
    "vf(data)"
   ]
  }
 ],
 "metadata": {
  "kernelspec": {
   "display_name": "Python 3",
   "language": "python",
   "name": "python3"
  },
  "language_info": {
   "codemirror_mode": {
    "name": "ipython",
    "version": 3
   },
   "file_extension": ".py",
   "mimetype": "text/x-python",
   "name": "python",
   "nbconvert_exporter": "python",
   "pygments_lexer": "ipython3",
   "version": "3.6.0"
  }
 },
 "nbformat": 4,
 "nbformat_minor": 2
}
